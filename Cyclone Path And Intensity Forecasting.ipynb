{
 "cells": [
  {
   "cell_type": "markdown",
   "id": "6fbc692e-823d-40ec-b2ae-670e63f8cdb6",
   "metadata": {},
   "source": [
    "**AI-Based Cyclone Path and Intensity Forecasting**"
   ]
  },
  {
   "cell_type": "markdown",
   "id": "b1e45e6a-6784-41a8-9036-1052cbbc1d96",
   "metadata": {},
   "source": [
    "This project aims to develop an AI/ML model that can predict the path (latitude and longitude) and intensity (maximum wind speed and minimum central pressure) of tropical cyclones. By leveraging historical cyclone data from the CMA Best Track dataset, the model provides accurate forecasts that can help in early warning systems and disaster preparedness."
   ]
  },
  {
   "cell_type": "code",
   "execution_count": 1,
   "id": "28227fcc-fcf2-40a7-8185-071a7d4b9dff",
   "metadata": {},
   "outputs": [],
   "source": [
    "import pandas as pd\n",
    "import matplotlib.pyplot as plt\n",
    "import seaborn as sns\n"
   ]
  },
  {
   "cell_type": "markdown",
   "id": "442a3028-29c1-4865-9c31-50fb83e8652d",
   "metadata": {},
   "source": [
    "**LOADING THE DATASET**"
   ]
  },
  {
   "cell_type": "code",
   "execution_count": 2,
   "id": "47464eea-9474-498d-8e28-972561155300",
   "metadata": {},
   "outputs": [],
   "source": [
    "data = pd.read_csv(\"CMA_Best_Track_Data.csv\", low_memory=False)\n"
   ]
  },
  {
   "cell_type": "markdown",
   "id": "78df90ff-6417-42e6-8986-451facc162a7",
   "metadata": {},
   "source": [
    "**DATA PREPROCESSING**"
   ]
  },
  {
   "cell_type": "code",
   "execution_count": 3,
   "id": "2180ce04-8a75-4fdf-b5e9-2d5f6ed2cba9",
   "metadata": {},
   "outputs": [
    {
     "data": {
      "text/html": [
       "<div>\n",
       "<style scoped>\n",
       "    .dataframe tbody tr th:only-of-type {\n",
       "        vertical-align: middle;\n",
       "    }\n",
       "\n",
       "    .dataframe tbody tr th {\n",
       "        vertical-align: top;\n",
       "    }\n",
       "\n",
       "    .dataframe thead th {\n",
       "        text-align: right;\n",
       "    }\n",
       "</style>\n",
       "<table border=\"1\" class=\"dataframe\">\n",
       "  <thead>\n",
       "    <tr style=\"text-align: right;\">\n",
       "      <th></th>\n",
       "      <th>International Number ID</th>\n",
       "      <th>Tropical Cyclone Number</th>\n",
       "      <th>Chinese Tropical Cyclone Data</th>\n",
       "      <th>Tropical Cyclone End Record</th>\n",
       "      <th>Number of Hours between Paths per Line</th>\n",
       "      <th>Name</th>\n",
       "      <th>Time</th>\n",
       "      <th>Grade</th>\n",
       "      <th>Latitude</th>\n",
       "      <th>Longitude</th>\n",
       "      <th>Minimum Central Pressure</th>\n",
       "      <th>Maximum Wind Speed</th>\n",
       "      <th>Average Wind Speed</th>\n",
       "    </tr>\n",
       "  </thead>\n",
       "  <tbody>\n",
       "    <tr>\n",
       "      <th>0</th>\n",
       "      <td>0</td>\n",
       "      <td>1</td>\n",
       "      <td>0000</td>\n",
       "      <td>0</td>\n",
       "      <td>6</td>\n",
       "      <td>Carmen</td>\n",
       "      <td>1949-01-13 00:00:00</td>\n",
       "      <td>0</td>\n",
       "      <td>5.7</td>\n",
       "      <td>139.9</td>\n",
       "      <td>1006</td>\n",
       "      <td>0</td>\n",
       "      <td>NaN</td>\n",
       "    </tr>\n",
       "    <tr>\n",
       "      <th>1</th>\n",
       "      <td>0</td>\n",
       "      <td>1</td>\n",
       "      <td>0000</td>\n",
       "      <td>0</td>\n",
       "      <td>6</td>\n",
       "      <td>Carmen</td>\n",
       "      <td>1949-01-13 06:00:00</td>\n",
       "      <td>0</td>\n",
       "      <td>5.9</td>\n",
       "      <td>139.3</td>\n",
       "      <td>1006</td>\n",
       "      <td>0</td>\n",
       "      <td>NaN</td>\n",
       "    </tr>\n",
       "    <tr>\n",
       "      <th>2</th>\n",
       "      <td>0</td>\n",
       "      <td>1</td>\n",
       "      <td>0000</td>\n",
       "      <td>0</td>\n",
       "      <td>6</td>\n",
       "      <td>Carmen</td>\n",
       "      <td>1949-01-13 12:00:00</td>\n",
       "      <td>0</td>\n",
       "      <td>6.3</td>\n",
       "      <td>138.7</td>\n",
       "      <td>1006</td>\n",
       "      <td>0</td>\n",
       "      <td>NaN</td>\n",
       "    </tr>\n",
       "    <tr>\n",
       "      <th>3</th>\n",
       "      <td>0</td>\n",
       "      <td>1</td>\n",
       "      <td>0000</td>\n",
       "      <td>0</td>\n",
       "      <td>6</td>\n",
       "      <td>Carmen</td>\n",
       "      <td>1949-01-13 18:00:00</td>\n",
       "      <td>0</td>\n",
       "      <td>6.7</td>\n",
       "      <td>138.0</td>\n",
       "      <td>1006</td>\n",
       "      <td>0</td>\n",
       "      <td>NaN</td>\n",
       "    </tr>\n",
       "    <tr>\n",
       "      <th>4</th>\n",
       "      <td>0</td>\n",
       "      <td>1</td>\n",
       "      <td>0000</td>\n",
       "      <td>0</td>\n",
       "      <td>6</td>\n",
       "      <td>Carmen</td>\n",
       "      <td>1949-01-14 00:00:00</td>\n",
       "      <td>0</td>\n",
       "      <td>7.2</td>\n",
       "      <td>137.3</td>\n",
       "      <td>1005</td>\n",
       "      <td>0</td>\n",
       "      <td>NaN</td>\n",
       "    </tr>\n",
       "  </tbody>\n",
       "</table>\n",
       "</div>"
      ],
      "text/plain": [
       "   International Number ID  Tropical Cyclone Number  \\\n",
       "0                        0                        1   \n",
       "1                        0                        1   \n",
       "2                        0                        1   \n",
       "3                        0                        1   \n",
       "4                        0                        1   \n",
       "\n",
       "  Chinese Tropical Cyclone Data  Tropical Cyclone End Record  \\\n",
       "0                          0000                            0   \n",
       "1                          0000                            0   \n",
       "2                          0000                            0   \n",
       "3                          0000                            0   \n",
       "4                          0000                            0   \n",
       "\n",
       "   Number of Hours between Paths per Line    Name                 Time  Grade  \\\n",
       "0                                       6  Carmen  1949-01-13 00:00:00      0   \n",
       "1                                       6  Carmen  1949-01-13 06:00:00      0   \n",
       "2                                       6  Carmen  1949-01-13 12:00:00      0   \n",
       "3                                       6  Carmen  1949-01-13 18:00:00      0   \n",
       "4                                       6  Carmen  1949-01-14 00:00:00      0   \n",
       "\n",
       "   Latitude  Longitude  Minimum Central Pressure  Maximum Wind Speed  \\\n",
       "0       5.7      139.9                      1006                   0   \n",
       "1       5.9      139.3                      1006                   0   \n",
       "2       6.3      138.7                      1006                   0   \n",
       "3       6.7      138.0                      1006                   0   \n",
       "4       7.2      137.3                      1005                   0   \n",
       "\n",
       "   Average Wind Speed  \n",
       "0                 NaN  \n",
       "1                 NaN  \n",
       "2                 NaN  \n",
       "3                 NaN  \n",
       "4                 NaN  "
      ]
     },
     "execution_count": 3,
     "metadata": {},
     "output_type": "execute_result"
    }
   ],
   "source": [
    "data.head()"
   ]
  },
  {
   "cell_type": "code",
   "execution_count": 4,
   "id": "fe9dbc3c-fe27-4118-839d-db6c9120667f",
   "metadata": {},
   "outputs": [
    {
     "name": "stdout",
     "output_type": "stream",
     "text": [
      "<class 'pandas.core.frame.DataFrame'>\n",
      "RangeIndex: 71705 entries, 0 to 71704\n",
      "Data columns (total 13 columns):\n",
      " #   Column                                  Non-Null Count  Dtype  \n",
      "---  ------                                  --------------  -----  \n",
      " 0   International Number ID                 71705 non-null  int64  \n",
      " 1   Tropical Cyclone Number                 71705 non-null  int64  \n",
      " 2   Chinese Tropical Cyclone Data           71705 non-null  object \n",
      " 3   Tropical Cyclone End Record             71705 non-null  int64  \n",
      " 4   Number of Hours between Paths per Line  71705 non-null  int64  \n",
      " 5   Name                                    71705 non-null  object \n",
      " 6   Time                                    71705 non-null  object \n",
      " 7   Grade                                   71705 non-null  int64  \n",
      " 8   Latitude                                71705 non-null  float64\n",
      " 9   Longitude                               71705 non-null  float64\n",
      " 10  Minimum Central Pressure                71705 non-null  int64  \n",
      " 11  Maximum Wind Speed                      71705 non-null  int64  \n",
      " 12  Average Wind Speed                      734 non-null    float64\n",
      "dtypes: float64(3), int64(7), object(3)\n",
      "memory usage: 7.1+ MB\n"
     ]
    }
   ],
   "source": [
    "data.info()"
   ]
  },
  {
   "cell_type": "code",
   "execution_count": 5,
   "id": "1bbb324d-5d68-4278-bd35-c19e90fcfe2b",
   "metadata": {},
   "outputs": [
    {
     "data": {
      "text/plain": [
       "<bound method NDFrame.describe of        International Number ID  Tropical Cyclone Number  \\\n",
       "0                            0                        1   \n",
       "1                            0                        1   \n",
       "2                            0                        1   \n",
       "3                            0                        1   \n",
       "4                            0                        1   \n",
       "...                        ...                      ...   \n",
       "71700                     2225                       29   \n",
       "71701                     2225                       29   \n",
       "71702                     2225                       29   \n",
       "71703                     2225                       29   \n",
       "71704                     2225                       29   \n",
       "\n",
       "      Chinese Tropical Cyclone Data  Tropical Cyclone End Record  \\\n",
       "0                              0000                            0   \n",
       "1                              0000                            0   \n",
       "2                              0000                            0   \n",
       "3                              0000                            0   \n",
       "4                              0000                            0   \n",
       "...                             ...                          ...   \n",
       "71700                          2225                            0   \n",
       "71701                          2225                            0   \n",
       "71702                          2225                            0   \n",
       "71703                          2225                            0   \n",
       "71704                          2225                            0   \n",
       "\n",
       "       Number of Hours between Paths per Line    Name                 Time  \\\n",
       "0                                           6  Carmen  1949-01-13 00:00:00   \n",
       "1                                           6  Carmen  1949-01-13 06:00:00   \n",
       "2                                           6  Carmen  1949-01-13 12:00:00   \n",
       "3                                           6  Carmen  1949-01-13 18:00:00   \n",
       "4                                           6  Carmen  1949-01-14 00:00:00   \n",
       "...                                       ...     ...                  ...   \n",
       "71700                                       6  Pakhar  2022-12-12 06:00:00   \n",
       "71701                                       6  Pakhar  2022-12-12 12:00:00   \n",
       "71702                                       6  Pakhar  2022-12-12 18:00:00   \n",
       "71703                                       6  Pakhar  2022-12-13 00:00:00   \n",
       "71704                                       6  Pakhar  2022-12-13 06:00:00   \n",
       "\n",
       "       Grade  Latitude  Longitude  Minimum Central Pressure  \\\n",
       "0          0       5.7      139.9                      1006   \n",
       "1          0       5.9      139.3                      1006   \n",
       "2          0       6.3      138.7                      1006   \n",
       "3          0       6.7      138.0                      1006   \n",
       "4          0       7.2      137.3                      1005   \n",
       "...      ...       ...        ...                       ...   \n",
       "71700      2      20.5      131.0                       995   \n",
       "71701      2      20.3      131.7                      1000   \n",
       "71702      1      19.6      131.9                      1002   \n",
       "71703      1      18.7      131.5                      1002   \n",
       "71704      1      18.0      131.2                      1004   \n",
       "\n",
       "       Maximum Wind Speed  Average Wind Speed  \n",
       "0                       0                 NaN  \n",
       "1                       0                 NaN  \n",
       "2                       0                 NaN  \n",
       "3                       0                 NaN  \n",
       "4                       0                 NaN  \n",
       "...                   ...                 ...  \n",
       "71700                  23                 NaN  \n",
       "71701                  18                 NaN  \n",
       "71702                  15                 NaN  \n",
       "71703                  15                 NaN  \n",
       "71704                  13                 NaN  \n",
       "\n",
       "[71705 rows x 13 columns]>"
      ]
     },
     "execution_count": 5,
     "metadata": {},
     "output_type": "execute_result"
    }
   ],
   "source": [
    "data.describe"
   ]
  },
  {
   "cell_type": "code",
   "execution_count": 6,
   "id": "f76a0f8c-0ca0-42e9-811e-f18f8b49cd7d",
   "metadata": {},
   "outputs": [
    {
     "data": {
      "text/plain": [
       "International Number ID                       0\n",
       "Tropical Cyclone Number                       0\n",
       "Chinese Tropical Cyclone Data                 0\n",
       "Tropical Cyclone End Record                   0\n",
       "Number of Hours between Paths per Line        0\n",
       "Name                                          0\n",
       "Time                                          0\n",
       "Grade                                         0\n",
       "Latitude                                      0\n",
       "Longitude                                     0\n",
       "Minimum Central Pressure                      0\n",
       "Maximum Wind Speed                            0\n",
       "Average Wind Speed                        70971\n",
       "dtype: int64"
      ]
     },
     "execution_count": 6,
     "metadata": {},
     "output_type": "execute_result"
    }
   ],
   "source": [
    "data.isnull().sum()"
   ]
  },
  {
   "cell_type": "code",
   "execution_count": 7,
   "id": "e371d9a1-22a3-4b63-806f-b16616320450",
   "metadata": {},
   "outputs": [],
   "source": [
    "data = data.drop(columns=[\"Chinese Tropical Cyclone Data\", \"Average Wind Speed\", \"Name\"])\n"
   ]
  },
  {
   "cell_type": "code",
   "execution_count": 9,
   "id": "15ed14af-4c99-4a48-a48b-004ea5596738",
   "metadata": {},
   "outputs": [
    {
     "name": "stdout",
     "output_type": "stream",
     "text": [
      "<class 'pandas.core.frame.DataFrame'>\n",
      "RangeIndex: 71705 entries, 0 to 71704\n",
      "Data columns (total 10 columns):\n",
      " #   Column                                  Non-Null Count  Dtype  \n",
      "---  ------                                  --------------  -----  \n",
      " 0   International Number ID                 71705 non-null  int64  \n",
      " 1   Tropical Cyclone Number                 71705 non-null  int64  \n",
      " 2   Tropical Cyclone End Record             71705 non-null  int64  \n",
      " 3   Number of Hours between Paths per Line  71705 non-null  int64  \n",
      " 4   Time                                    71705 non-null  object \n",
      " 5   Grade                                   71705 non-null  int64  \n",
      " 6   Latitude                                71705 non-null  float64\n",
      " 7   Longitude                               71705 non-null  float64\n",
      " 8   Minimum Central Pressure                71705 non-null  int64  \n",
      " 9   Maximum Wind Speed                      71705 non-null  int64  \n",
      "dtypes: float64(2), int64(7), object(1)\n",
      "memory usage: 5.5+ MB\n"
     ]
    }
   ],
   "source": [
    "data.info()"
   ]
  },
  {
   "cell_type": "code",
   "execution_count": null,
   "id": "1dc983ff-9f1d-447f-8916-593b3c50264e",
   "metadata": {},
   "outputs": [],
   "source": []
  }
 ],
 "metadata": {
  "kernelspec": {
   "display_name": "Python 3 (ipykernel)",
   "language": "python",
   "name": "python3"
  },
  "language_info": {
   "codemirror_mode": {
    "name": "ipython",
    "version": 3
   },
   "file_extension": ".py",
   "mimetype": "text/x-python",
   "name": "python",
   "nbconvert_exporter": "python",
   "pygments_lexer": "ipython3",
   "version": "3.12.7"
  }
 },
 "nbformat": 4,
 "nbformat_minor": 5
}
